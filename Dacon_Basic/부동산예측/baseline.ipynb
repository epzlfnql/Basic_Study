{
 "cells": [
  {
   "attachments": {},
   "cell_type": "markdown",
   "metadata": {},
   "source": [
    "# 라이브러리 & 데이터 불러오기"
   ]
  },
  {
   "cell_type": "code",
   "execution_count": 4,
   "metadata": {},
   "outputs": [],
   "source": [
    "import torch"
   ]
  },
  {
   "cell_type": "code",
   "execution_count": 5,
   "metadata": {},
   "outputs": [],
   "source": [
    "import pandas as pd\n",
    "import numpy as np\n",
    "import matplotlib.pyplot as plt\n",
    "import seaborn as sns\n",
    "\n",
    "\n",
    "# 전처리\n",
    "from sklearn.preprocessing import StandardScaler, MinMaxScaler, RobustScaler\n",
    "from sklearn.preprocessing import LabelEncoder, OneHotEncoder\n",
    "\n",
    "# 모델 import\n",
    "from sklearn.ensemble import AdaBoostRegressor, BaggingRegressor, ExtraTreesRegressor, GradientBoostingRegressor, HistGradientBoostingRegressor, RandomForestRegressor, StackingRegressor, VotingRegressor\n",
    "\n",
    "# tabnet 관련 \n",
    "from tqdm.auto import tqdm\n",
    "# from pytorch_tabnet.tab_model import TabNetRegressor\n",
    "from sklearn.model_selection import KFold\n",
    "from sklearn.model_selection import train_test_split\n",
    "from sklearn.metrics import mean_squared_log_error\n",
    "# import optuna\n"
   ]
  },
  {
   "cell_type": "code",
   "execution_count": 5,
   "metadata": {},
   "outputs": [],
   "source": [
    "train = pd.read_csv('train.csv')\n",
    "test = pd.read_csv('test.csv')\n",
    "sampe = pd.read_csv('sample_submission.csv')"
   ]
  },
  {
   "cell_type": "code",
   "execution_count": 7,
   "metadata": {},
   "outputs": [
    {
     "name": "stdout",
     "output_type": "stream",
     "text": [
      "<class 'pandas.core.frame.DataFrame'>\n",
      "RangeIndex: 8692 entries, 0 to 8691\n",
      "Data columns (total 12 columns):\n",
      " #   Column                  Non-Null Count  Dtype  \n",
      "---  ------                  --------------  -----  \n",
      " 0   ID                      8692 non-null   object \n",
      " 1   propertyType            8692 non-null   object \n",
      " 2   bedrooms                8692 non-null   int64  \n",
      " 3   latitude                8692 non-null   float64\n",
      " 4   longitude               8692 non-null   float64\n",
      " 5   suburbName              8692 non-null   object \n",
      " 6   distanceMetro(km)       8692 non-null   float64\n",
      " 7   distanceAirport(km)     8692 non-null   float64\n",
      " 8   distanceHospital(km)    8692 non-null   float64\n",
      " 9   distanceRailway(km)     8692 non-null   float64\n",
      " 10  area(square_meters)     8692 non-null   float64\n",
      " 11  monthlyRent(us_dollar)  8692 non-null   int64  \n",
      "dtypes: float64(7), int64(2), object(3)\n",
      "memory usage: 815.0+ KB\n"
     ]
    }
   ],
   "source": [
    "train.info()"
   ]
  },
  {
   "cell_type": "code",
   "execution_count": 8,
   "metadata": {},
   "outputs": [
    {
     "name": "stdout",
     "output_type": "stream",
     "text": [
      "<class 'pandas.core.frame.DataFrame'>\n",
      "RangeIndex: 8693 entries, 0 to 8692\n",
      "Data columns (total 11 columns):\n",
      " #   Column                Non-Null Count  Dtype  \n",
      "---  ------                --------------  -----  \n",
      " 0   ID                    8693 non-null   object \n",
      " 1   propertyType          8693 non-null   object \n",
      " 2   bedrooms              8693 non-null   int64  \n",
      " 3   latitude              8693 non-null   float64\n",
      " 4   longitude             8693 non-null   float64\n",
      " 5   suburbName            8693 non-null   object \n",
      " 6   distanceMetro(km)     8693 non-null   float64\n",
      " 7   distanceAirport(km)   8693 non-null   float64\n",
      " 8   distanceHospital(km)  8693 non-null   float64\n",
      " 9   distanceRailway(km)   8693 non-null   float64\n",
      " 10  area(square_meters)   8693 non-null   float64\n",
      "dtypes: float64(7), int64(1), object(3)\n",
      "memory usage: 747.2+ KB\n"
     ]
    }
   ],
   "source": [
    "test.info()"
   ]
  },
  {
   "cell_type": "code",
   "execution_count": null,
   "metadata": {},
   "outputs": [],
   "source": []
  }
 ],
 "metadata": {
  "kernelspec": {
   "display_name": "base",
   "language": "python",
   "name": "python3"
  },
  "language_info": {
   "codemirror_mode": {
    "name": "ipython",
    "version": 3
   },
   "file_extension": ".py",
   "mimetype": "text/x-python",
   "name": "python",
   "nbconvert_exporter": "python",
   "pygments_lexer": "ipython3",
   "version": "3.9.13"
  },
  "orig_nbformat": 4,
  "vscode": {
   "interpreter": {
    "hash": "307ec192ad8d34cb0f8dc3920d53ded93ac12f840aaf745f20d1b7083c792b0b"
   }
  }
 },
 "nbformat": 4,
 "nbformat_minor": 2
}
