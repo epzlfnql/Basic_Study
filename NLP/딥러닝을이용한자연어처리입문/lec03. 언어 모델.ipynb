{
 "cells": [
  {
   "cell_type": "markdown",
   "metadata": {},
   "source": [
    "# 03. 언어 모델(Language Model)\n",
    "- 언어 모델이란 단어 시퀀스(문장)에 확률을 할당하는 모델\n",
    "\n",
    "- 통계기반 언어 모델보다 인공 신경망 기반 언어 모델이 많이 사용된다."
   ]
  },
  {
   "attachments": {},
   "cell_type": "markdown",
   "metadata": {},
   "source": [
    "## 03-01 언어 모델이란?\n",
    "- 언어 모델은 언어라는 현상을 모델링하고자 단어 시퀀스(문장)에 확률을 할당하는 모델\n",
    "- 최근 핫한 자연어 처리의 기술인 GPT나 BERT 또한 인공 신경망 언어 모델의 개념을 사용하여 만들었다."
   ]
  },
  {
   "attachments": {},
   "cell_type": "markdown",
   "metadata": {},
   "source": [
    "<pre>\n",
    "1. 언어 모델\n",
    "- 단어 시퀀스에 확률을 할당하는 일을 하는 모델.\n",
    "- 언어 모델은 가장 자연스러운 단어 시퀀스를 찾아내는 모델.\n",
    "- 단어 시퀀스에 확률을 할당하게 하기 위해서 가장 보편적으로 사용되는 방법은 언어 모델이 이전 단어들이 주어졌을 때 다음 단어를 예측하도록 하는 것.\n",
    "\n",
    "- 언어 모델링은 주어진 단어들로부터 아직 모르는 단어를 예측하는 작업.\n",
    "- 즉, 언어 모델이 이전 단어들로부터 다음 단어를 예측하는 일\n",
    "\n"
   ]
  },
  {
   "attachments": {},
   "cell_type": "markdown",
   "metadata": {},
   "source": [
    "2. 단어 시퀀스의 확률 할당\n",
    "- 자연어 처리에서 단어 시퀀스에 확률을 할당하는 일이 필요한 이유\n",
    "    - a. 기계 번역\n",
    "    - b. 오타 교정\n",
    "    - c. 음성 인식\n",
    "    "
   ]
  },
  {
   "attachments": {},
   "cell_type": "markdown",
   "metadata": {},
   "source": [
    "\n",
    "3. 주어진 이전 단어들로부터 다음 단어 예측하기\n",
    "- 언어 모델은 단어 시퀀스에 확률을 할당하는 모델\n",
    "- 단어 시퀀스에 확률을 할당하기 위해서 가장 보편적으로 사용하는 방법은 이전 단어들이 주어졌을 때, 다음 단어를 예측하도록 하는 것.\n",
    "\n",
    "\n"
   ]
  },
  {
   "attachments": {},
   "cell_type": "markdown",
   "metadata": {},
   "source": [
    "## 03-02 통계적 언어 모델(Statistical Language Model, SLM)\n",
    "1. 조건부 확률\n",
    "2. 문장에 대한 확률\n",
    "3. 카운트 기반의 접근\n",
    "4. 카운트 기반 접근의 한계 - 희소 문제(Sparsity Problem)\n"
   ]
  },
  {
   "attachments": {},
   "cell_type": "markdown",
   "metadata": {},
   "source": [
    "## 03-03 N-gram 언어 모델(N-gram Language Model)\n",
    "- n-gram 언어 모델은 여전히 카운트에 기반한 통계적 접근을 사용하고 있다.\n",
    "- 다만 모든 단어를 고려하는 것이 아니라 일부 단어만 고려하는 접근 방법을 사용한다.\n",
    "- 그리고 이때 일부 단어를 몇개 보는냐를 결정하는데 이것이 n-gram에서의 n이 갖는 의미."
   ]
  },
  {
   "cell_type": "markdown",
   "metadata": {},
   "source": []
  }
 ],
 "metadata": {
  "language_info": {
   "name": "python"
  },
  "orig_nbformat": 4
 },
 "nbformat": 4,
 "nbformat_minor": 2
}
